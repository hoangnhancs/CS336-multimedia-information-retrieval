{
  "nbformat": 4,
  "nbformat_minor": 0,
  "metadata": {
    "colab": {
      "name": "CS336_MAP",
      "provenance": [],
      "collapsed_sections": []
    },
    "kernelspec": {
      "name": "python3",
      "display_name": "Python 3"
    }
  },
  "cells": [
    {
      "cell_type": "code",
      "metadata": {
        "id": "3VOi9cmwPycT"
      },
      "source": [
        "from tensorflow.keras.applications.vgg16 import VGG16, preprocess_input\n",
        "from tensorflow.keras.applications.vgg19 import VGG19, preprocess_input\n",
        "from tensorflow.keras.applications import DenseNet121\n",
        "from keras.models import Model\n",
        "from keras.layers import Input\n",
        "import numpy as np\n",
        "from keras.preprocessing import image\n",
        "import matplotlib.pyplot as plt\n",
        "import os"
      ],
      "execution_count": null,
      "outputs": []
    },
    {
      "cell_type": "markdown",
      "metadata": {
        "id": "LGeV37PrTQLe"
      },
      "source": [
        "Re-build VGG16 with output is layer fc2"
      ]
    },
    {
      "cell_type": "code",
      "metadata": {
        "id": "sR5jCmaVQlY9",
        "outputId": "930807a0-4fcd-4b85-b85a-76aa11bb1f4a",
        "colab": {
          "base_uri": "https://localhost:8080/",
          "height": 890
        }
      },
      "source": [
        "model_vgg16 = VGG16()\n",
        "input = Input(shape=(224,224,3))\n",
        "output = model_vgg16.get_layer('fc2').output\n",
        "model_vgg16_fc2 = Model(model_vgg16.input, output)\n",
        "model_vgg16_fc2.summary()"
      ],
      "execution_count": null,
      "outputs": [
        {
          "output_type": "stream",
          "text": [
            "Model: \"functional_3\"\n",
            "_________________________________________________________________\n",
            "Layer (type)                 Output Shape              Param #   \n",
            "=================================================================\n",
            "input_3 (InputLayer)         [(None, 224, 224, 3)]     0         \n",
            "_________________________________________________________________\n",
            "block1_conv1 (Conv2D)        (None, 224, 224, 64)      1792      \n",
            "_________________________________________________________________\n",
            "block1_conv2 (Conv2D)        (None, 224, 224, 64)      36928     \n",
            "_________________________________________________________________\n",
            "block1_pool (MaxPooling2D)   (None, 112, 112, 64)      0         \n",
            "_________________________________________________________________\n",
            "block2_conv1 (Conv2D)        (None, 112, 112, 128)     73856     \n",
            "_________________________________________________________________\n",
            "block2_conv2 (Conv2D)        (None, 112, 112, 128)     147584    \n",
            "_________________________________________________________________\n",
            "block2_pool (MaxPooling2D)   (None, 56, 56, 128)       0         \n",
            "_________________________________________________________________\n",
            "block3_conv1 (Conv2D)        (None, 56, 56, 256)       295168    \n",
            "_________________________________________________________________\n",
            "block3_conv2 (Conv2D)        (None, 56, 56, 256)       590080    \n",
            "_________________________________________________________________\n",
            "block3_conv3 (Conv2D)        (None, 56, 56, 256)       590080    \n",
            "_________________________________________________________________\n",
            "block3_pool (MaxPooling2D)   (None, 28, 28, 256)       0         \n",
            "_________________________________________________________________\n",
            "block4_conv1 (Conv2D)        (None, 28, 28, 512)       1180160   \n",
            "_________________________________________________________________\n",
            "block4_conv2 (Conv2D)        (None, 28, 28, 512)       2359808   \n",
            "_________________________________________________________________\n",
            "block4_conv3 (Conv2D)        (None, 28, 28, 512)       2359808   \n",
            "_________________________________________________________________\n",
            "block4_pool (MaxPooling2D)   (None, 14, 14, 512)       0         \n",
            "_________________________________________________________________\n",
            "block5_conv1 (Conv2D)        (None, 14, 14, 512)       2359808   \n",
            "_________________________________________________________________\n",
            "block5_conv2 (Conv2D)        (None, 14, 14, 512)       2359808   \n",
            "_________________________________________________________________\n",
            "block5_conv3 (Conv2D)        (None, 14, 14, 512)       2359808   \n",
            "_________________________________________________________________\n",
            "block5_pool (MaxPooling2D)   (None, 7, 7, 512)         0         \n",
            "_________________________________________________________________\n",
            "flatten (Flatten)            (None, 25088)             0         \n",
            "_________________________________________________________________\n",
            "fc1 (Dense)                  (None, 4096)              102764544 \n",
            "_________________________________________________________________\n",
            "fc2 (Dense)                  (None, 4096)              16781312  \n",
            "=================================================================\n",
            "Total params: 134,260,544\n",
            "Trainable params: 134,260,544\n",
            "Non-trainable params: 0\n",
            "_________________________________________________________________\n"
          ],
          "name": "stdout"
        }
      ]
    },
    {
      "cell_type": "markdown",
      "metadata": {
        "id": "UPiWLZqFWuZi"
      },
      "source": [
        "Extract feature function"
      ]
    },
    {
      "cell_type": "code",
      "metadata": {
        "id": "jv-WQ7MzWt-v"
      },
      "source": [
        "def extract_feature(img_path):\n",
        "  img = image.load_img(img_path, target_size=(224,224))\n",
        "  img = image.img_to_array(img)\n",
        "  img = np.expand_dims(img, axis=0)\n",
        "  img = preprocess_input(img)\n",
        "  imgs.append(img)\n",
        "  feature = model_vgg16_fc2.predict(img)\n",
        "  return feature"
      ],
      "execution_count": null,
      "outputs": []
    },
    {
      "cell_type": "code",
      "metadata": {
        "id": "er09d1gYhl2J"
      },
      "source": [
        "Calculate AP function"
      ],
      "execution_count": null,
      "outputs": []
    },
    {
      "cell_type": "code",
      "metadata": {
        "id": "94Zrck09egRf"
      },
      "source": [
        "def AP(actual,query_res,total):\n",
        "  count = 1\n",
        "  ap = 0\n",
        "  for i in range (len(query_res)):\n",
        "    if query_res[i] in actual:\n",
        "        ap += count/(i+1)\n",
        "        count+=1\n",
        "  return ap/total"
      ],
      "execution_count": null,
      "outputs": []
    },
    {
      "cell_type": "code",
      "metadata": {
        "id": "4KYa2r-KiRIm",
        "outputId": "113d6ee7-a405-4605-a517-e12e6cd24b5b",
        "colab": {
          "base_uri": "https://localhost:8080/",
          "height": 70
        }
      },
      "source": [
        "def generate_ground_truth(gt_path,size=4):\n",
        "  grounds = os.listdir(gt_path)\n",
        "  ground_set = dict()\n",
        "  ground_answer = dict()\n",
        "  for ground in grounds:\n",
        "    with open(os.path.join(gt_path,ground),'r') as f:\n",
        "      ground = ground.split('.')[0]\n",
        "      data = [x for x in f.read().split('\\n') if x]\n",
        "      # answer list\n",
        "      ground_answer[ground] = data\n",
        "      rd = np.arange(len(data))\n",
        "      np.random.shuffle(rd)\n",
        "      rd = rd[:size]\n",
        "      data = np.array(data)\n",
        "      # test_list\n",
        "      ground_set[ground] = data.take(rd).tolist()\n",
        "      del f\n",
        "  return ground_set,ground_answer\n",
        "test_set,answer_set = generate_ground_truth(gt_path='/content/drive/My Drive/CS336_data/groundtruth', size=4)\n",
        "print(test_set)\n",
        "print(answer_set)"
      ],
      "execution_count": null,
      "outputs": [
        {
          "output_type": "stream",
          "text": [
            "{'BuuDienThanhPho': ['BuuDienThanhPho6.jpg', 'BuuDienThanhPho4.jpg', 'BuuDienThanhPho8.jpg', 'BuuDienThanhPho1.jpg'], 'NhaThoDucBa': ['NhaThoDucBa5.jpg', 'NhaThoDucBa7.jpg', 'NhaThoDucBa6.jpg', 'NhaThoDucBa2.jpg'], 'VinhCamRanh': ['VinhCamRanh2.jpg', 'VinhCamRanh8.jpg', 'VinhCamRanh6.jpg', 'VinhCamRanh7.jpg'], 'QuocHocHue': ['QuocHocHue4.jpg', 'QuocHocHue6.jpg', 'QuocHocHue2.jpg', 'QuocHocHue8.jpg']}\n",
            "{'BuuDienThanhPho': ['BuuDienThanhPho1.jpg', 'BuuDienThanhPho2.jpg', 'BuuDienThanhPho3.jpg', 'BuuDienThanhPho4.jpg', 'BuuDienThanhPho5.jpg', 'BuuDienThanhPho6.jpg', 'BuuDienThanhPho7.jpg', 'BuuDienThanhPho8.jpg'], 'NhaThoDucBa': ['NhaThoDucBa1.jpg', 'NhaThoDucBa2.jpg', 'NhaThoDucBa3.jpg', 'NhaThoDucBa4.jpg', 'NhaThoDucBa5.jpg', 'NhaThoDucBa6.jpg', 'NhaThoDucBa7.jpg', 'NhaThoDucBa8.jpg'], 'VinhCamRanh': ['VinhCamRanh1.jpg', 'VinhCamRanh2.jpg', 'VinhCamRanh3.jpg', 'VinhCamRanh4.jpg', 'VinhCamRanh5.jpg', 'VinhCamRanh6.jpg', 'VinhCamRanh7.jpg', 'VinhCamRanh8.jpg'], 'QuocHocHue': ['QuocHocHue1.jpg', 'QuocHocHue2.jpg', 'QuocHocHue3.jpg', 'QuocHocHue4.jpg', 'QuocHocHue5.jpg', 'QuocHocHue6.jpg', 'QuocHocHue7.jpg', 'QuocHocHue8.jpg']}\n"
          ],
          "name": "stdout"
        }
      ]
    },
    {
      "cell_type": "code",
      "metadata": {
        "id": "XRqt8-o2cvzK"
      },
      "source": [
        "def generate_groundtruth"
      ],
      "execution_count": null,
      "outputs": []
    },
    {
      "cell_type": "markdown",
      "metadata": {
        "id": "eZ_k-tPp5kRV"
      },
      "source": [
        "Viết file json chứa features của từng ảnh"
      ]
    },
    {
      "cell_type": "code",
      "metadata": {
        "id": "le8szEbs35Vm"
      },
      "source": [
        "import json\n",
        "import numpy as np\n",
        "feature_data = {}\n",
        "folder_path = \"/content/drive/My Drive/CS336_data/image\"\n",
        "imgs = os.listdir(folder_path)\n",
        "for img in imgs[:]:\n",
        "  path = folder_path +'/'+ img \n",
        "  feature = extract_feature(path)\n",
        "  feature_data[img] = np.array(feature).tolist()"
      ],
      "execution_count": null,
      "outputs": []
    },
    {
      "cell_type": "code",
      "metadata": {
        "id": "Ze7to36mcA41",
        "outputId": "b2f9f8d5-d667-42ce-e4f1-775de855c4da",
        "colab": {
          "base_uri": "https://localhost:8080/",
          "height": 34
        }
      },
      "source": [
        "with open('feature_data.json', 'w') as dt:\n",
        "  json.dump(feature_data, dt)\n",
        "print(len(feature_data))"
      ],
      "execution_count": null,
      "outputs": [
        {
          "output_type": "stream",
          "text": [
            "300\n"
          ],
          "name": "stdout"
        }
      ]
    },
    {
      "cell_type": "markdown",
      "metadata": {
        "id": "Y9aIK6p55prF"
      },
      "source": [
        "Tải file feature_data.json về và sử dụng sau này"
      ]
    },
    {
      "cell_type": "code",
      "metadata": {
        "id": "DPcQLK-pkSoL"
      },
      "source": [
        "with open(\"/content/drive/My Drive/CS336_data/feature_data.json\", \"r\") as fin:\n",
        "    feature_data = json.load(fin)"
      ],
      "execution_count": null,
      "outputs": []
    },
    {
      "cell_type": "code",
      "metadata": {
        "id": "XDsm8i4ZkkuO",
        "outputId": "f8b49937-dc57-42e5-cda7-10b093e8e035",
        "colab": {
          "base_uri": "https://localhost:8080/",
          "height": 34
        }
      },
      "source": [
        "print(len(feature_data))"
      ],
      "execution_count": null,
      "outputs": [
        {
          "output_type": "stream",
          "text": [
            "300\n"
          ],
          "name": "stdout"
        }
      ]
    },
    {
      "cell_type": "markdown",
      "metadata": {
        "id": "8WzNZQ1GgPz1"
      },
      "source": [
        "Calculate distance function"
      ]
    },
    {
      "cell_type": "code",
      "metadata": {
        "id": "cjt-2N93d8ZO"
      },
      "source": [
        "def cal_distance(feature_query, feature_destination, function):\n",
        "  \n",
        "  feature_query=np.array(feature_query[0])\n",
        "  feature_destination = np.array(feature_destination[0])\n",
        "\n",
        "  if function=='L2':\n",
        "    return np.linalg.norm(feature_query-feature_destination)\n",
        "  if function=='COS':\n",
        "    return np.dot(feature_query,feature_destination)/(np.linalg.norm(feature_query)*np.linalg.norm(feature_destination))\n",
        "  if function=='DOT':\n",
        "    return np.dot(feature_query, feature_destination)\n",
        "    "
      ],
      "execution_count": null,
      "outputs": []
    },
    {
      "cell_type": "code",
      "metadata": {
        "id": "WLdO-WfJ67hn",
        "outputId": "03b1a1f4-4f01-4261-fb1d-2aafb5f88a0d",
        "colab": {
          "base_uri": "https://localhost:8080/",
          "height": 50
        }
      },
      "source": [
        "a= np.array([1,2,3])\n",
        "b= np.array([4,5,6])\n",
        "print(np.dot(a,b))\n",
        "print(a.shape)"
      ],
      "execution_count": null,
      "outputs": [
        {
          "output_type": "stream",
          "text": [
            "32\n",
            "(3,)\n"
          ],
          "name": "stdout"
        }
      ]
    },
    {
      "cell_type": "markdown",
      "metadata": {
        "id": "kTiCzps8hjRr"
      },
      "source": [
        "Query image:"
      ]
    },
    {
      "cell_type": "code",
      "metadata": {
        "id": "i8Q7qiHZhlwH"
      },
      "source": [
        "def query_image(query_img_path, feature_data, function):\n",
        "  query_img = image.load_img(query_img_path, target_size=(224,224))\n",
        "  query_img = image.img_to_array(query_img)\n",
        "  query_img = np.expand_dims(query_img, axis=0)\n",
        "  query_img = preprocess_input(query_img)\n",
        "  feature_query = model_vgg16_fc2.predict(query_img)\n",
        "  \n",
        "  query_res = {}\n",
        "\n",
        "  for feature in feature_data:\n",
        "    query_res[feature] = cal_distance(feature_query, feature_data[feature], function)\n",
        "  if function=='L2':\n",
        "    query_res_sort = sorted(query_res.items(), key=lambda x:x[1], reverse=False)\n",
        "  else:\n",
        "    query_res_sort = sorted(query_res.items(), key=lambda x:x[1], reverse=True)\n",
        "  return query_res_sort[:10]"
      ],
      "execution_count": null,
      "outputs": []
    },
    {
      "cell_type": "markdown",
      "metadata": {
        "id": "BCnPg67DmFWC"
      },
      "source": [
        "Final"
      ]
    },
    {
      "cell_type": "code",
      "metadata": {
        "id": "8HWii-aUmGer"
      },
      "source": [
        "def mAP(function):\n",
        "  APs = []\n",
        "  number_of_queries = 10\n",
        "  expected_correct = 8\n",
        "  locations = list(answer_set.keys())\n",
        "  \n",
        "  print('###################### USING {} FUNCTION ######################'.format(function))\n",
        "  print('\\n\\n\\n')\n",
        "  final_map = 0\n",
        "  for location in locations:\n",
        "    #print(location)\n",
        "    #print(test_set[location])\n",
        "    sum_pre = 0\n",
        "    for _ in test_set[location]:\n",
        "      query_res = query_image(query_img_path=str('/content/drive/My Drive/CS336_data/image/'+_), feature_data=feature_data, function=function)\n",
        "      #print(query_res)\n",
        "      tmp = []\n",
        "      for __ in query_res:\n",
        "        tmp.append(__[0])\n",
        "      print(\"Result of query {} is: \".format(_),tmp)\n",
        "        #print(answer_set[location])\n",
        "      print('AP of this result query is: ',AP(actual=answer_set[location], query_res=tmp, total=expected_correct))\n",
        "      sum_pre += AP(actual=answer_set[location], query_res=tmp, total=expected_correct)\n",
        "    print('=> mAP of this is: ',sum_pre/4)\n",
        "    final_map+=sum_pre/4\n",
        "    print('----------------------------')\n",
        "  print('=====================================================================================')\n",
        "  print('mAP of this query is: ',final_map/4)\n"
      ],
      "execution_count": null,
      "outputs": []
    },
    {
      "cell_type": "code",
      "metadata": {
        "id": "3WwWKRi9joCA",
        "outputId": "c8a49232-58e4-4eaa-f0ce-f93f3ed4c5ac",
        "colab": {
          "base_uri": "https://localhost:8080/",
          "height": 826
        }
      },
      "source": [
        "mAP('L2')"
      ],
      "execution_count": null,
      "outputs": [
        {
          "output_type": "stream",
          "text": [
            "###################### USING L2 FUNCTION ######################\n",
            "\n",
            "\n",
            "\n",
            "\n",
            "Result of query BuuDienThanhPho6.jpg is:  ['BuuDienThanhPho6.jpg', 'NhaThoDucBa7.jpg', 'NhaThoDucBa3.jpg', 'NhaThoDucBa1.jpg', 'BuuDienThanhPho8.jpg', 'QuocHocHue4.jpg', 'BuuDienThanhPho2.jpg', 'image_2057_th.png', 'NhaThoDucBa5.jpg', 'image_7201_th.png']\n",
            "AP of this result query is:  0.22857142857142856\n",
            "Result of query BuuDienThanhPho4.jpg is:  ['BuuDienThanhPho4.jpg', 'BuuDienThanhPho2.jpg', 'BuuDienThanhPho1.jpg', 'BuuDienThanhPho5.jpg', 'BuuDienThanhPho7.jpg', 'NhaThoDucBa7.jpg', 'BuuDienThanhPho3.jpg', 'NhaThoDucBa3.jpg', 'QuocHocHue7.jpg', 'image_6979_th.png']\n",
            "AP of this result query is:  0.7321428571428571\n",
            "Result of query BuuDienThanhPho8.jpg is:  ['BuuDienThanhPho8.jpg', 'BuuDienThanhPho2.jpg', 'BuuDienThanhPho5.jpg', 'BuuDienThanhPho7.jpg', 'BuuDienThanhPho4.jpg', 'NhaThoDucBa1.jpg', 'BuuDienThanhPho1.jpg', 'image_2678_th.png', 'BuuDienThanhPho6.jpg', 'NhaThoDucBa3.jpg']\n",
            "AP of this result query is:  0.8293650793650793\n",
            "Result of query BuuDienThanhPho1.jpg is:  ['BuuDienThanhPho1.jpg', 'BuuDienThanhPho4.jpg', 'BuuDienThanhPho7.jpg', 'BuuDienThanhPho5.jpg', 'BuuDienThanhPho3.jpg', 'BuuDienThanhPho2.jpg', 'image_6979_th.png', 'NhaThoDucBa7.jpg', 'QuocHocHue7.jpg', 'NhaThoDucBa1.jpg']\n",
            "AP of this result query is:  0.75\n",
            "=> mAP of this is:  0.6350198412698412\n",
            "----------------------------\n",
            "Result of query NhaThoDucBa5.jpg is:  ['NhaThoDucBa5.jpg', 'NhaThoDucBa3.jpg', 'NhaThoDucBa2.jpg', 'NhaThoDucBa7.jpg', 'NhaThoDucBa6.jpg', 'image_1656_th.png', 'NhaThoDucBa8.jpg', 'NhaThoDucBa1.jpg', 'BuuDienThanhPho5.jpg', 'NhaThoDucBa4.jpg']\n",
            "AP of this result query is:  0.9415178571428571\n",
            "Result of query NhaThoDucBa7.jpg is:  ['NhaThoDucBa7.jpg', 'NhaThoDucBa3.jpg', 'NhaThoDucBa6.jpg', 'NhaThoDucBa2.jpg', 'image_1656_th.png', 'NhaThoDucBa4.jpg', 'BuuDienThanhPho5.jpg', 'NhaThoDucBa5.jpg', 'BuuDienThanhPho4.jpg', 'image_2057_th.png']\n",
            "AP of this result query is:  0.6979166666666666\n",
            "Result of query NhaThoDucBa6.jpg is:  ['NhaThoDucBa6.jpg', 'NhaThoDucBa7.jpg', 'NhaThoDucBa3.jpg', 'image_1656_th.png', 'NhaThoDucBa2.jpg', 'NhaThoDucBa5.jpg', 'BuuDienThanhPho5.jpg', 'NhaThoDucBa1.jpg', 'image_7324_th.png', 'NhaThoDucBa4.jpg']\n",
            "AP of this result query is:  0.7604166666666666\n",
            "Result of query NhaThoDucBa2.jpg is:  ['NhaThoDucBa2.jpg', 'NhaThoDucBa3.jpg', 'NhaThoDucBa7.jpg', 'NhaThoDucBa5.jpg', 'NhaThoDucBa4.jpg', 'NhaThoDucBa6.jpg', 'image_1656_th.png', 'NhaThoDucBa8.jpg', 'BuuDienThanhPho5.jpg', 'image_2057_th.png']\n",
            "AP of this result query is:  0.859375\n",
            "=> mAP of this is:  0.8148065476190476\n",
            "----------------------------\n",
            "Result of query VinhCamRanh2.jpg is:  ['VinhCamRanh2.jpg', 'VinhCamRanh7.jpg', 'image_6149_th.png', 'VinhCamRanh4.jpg', 'image_7316_th.png', 'VinhCamRanh3.jpg', 'image_5988_th.png', 'image_4223_th.png', 'image_7580_th.png', 'image_6017_th.png']\n",
            "AP of this result query is:  0.4270833333333333\n",
            "Result of query VinhCamRanh8.jpg is:  ['VinhCamRanh8.jpg', 'image_6149_th.png', 'VinhCamRanh4.jpg', 'image_6017_th.png', 'VinhCamRanh3.jpg', 'VinhCamRanh6.jpg', 'VinhCamRanh7.jpg', 'VinhCamRanh2.jpg', 'VinhCamRanh1.jpg', 'image_7580_th.png']\n",
            "AP of this result query is:  0.6469246031746031\n",
            "Result of query VinhCamRanh6.jpg is:  ['VinhCamRanh6.jpg', 'image_7580_th.png', 'VinhCamRanh4.jpg', 'image_6149_th.png', 'VinhCamRanh1.jpg', 'image_7316_th.png', 'VinhCamRanh3.jpg', 'image_1968_th.png', 'VinhCamRanh8.jpg', 'image_6164_th.png']\n",
            "AP of this result query is:  0.42420634920634914\n",
            "Result of query VinhCamRanh7.jpg is:  ['VinhCamRanh7.jpg', 'VinhCamRanh2.jpg', 'image_6149_th.png', 'VinhCamRanh3.jpg', 'VinhCamRanh4.jpg', 'image_7316_th.png', 'image_4223_th.png', 'image_7580_th.png', 'image_5462_th.png', 'image_5988_th.png']\n",
            "AP of this result query is:  0.44375\n",
            "=> mAP of this is:  0.4854910714285714\n",
            "----------------------------\n",
            "Result of query QuocHocHue4.jpg is:  ['QuocHocHue4.jpg', 'QuocHocHue5.jpg', 'QuocHocHue7.jpg', 'image_2057_th.png', 'image_6503_th.png', 'image_7773_th.png', 'image_6387_th.png', 'image_7201_th.png', 'NhaThoDucBa1.jpg', 'image_6049_th.png']\n",
            "AP of this result query is:  0.375\n",
            "Result of query QuocHocHue6.jpg is:  ['QuocHocHue6.jpg', 'QuocHocHue2.jpg', 'QuocHocHue4.jpg', 'image_6049_th.png', 'image_2057_th.png', 'image_6503_th.png', 'image_7773_th.png', 'image_7201_th.png', 'image_7885_th.png', 'image_6387_th.png']\n",
            "AP of this result query is:  0.375\n",
            "Result of query QuocHocHue2.jpg is:  ['QuocHocHue2.jpg', 'image_2171_th.png', 'QuocHocHue6.jpg', 'image_1968_th.png', 'image_6979_th.png', 'image_2057_th.png', 'image_2075_th.png', 'BuuDienThanhPho3.jpg', 'image_4211_th.png', 'QuocHocHue4.jpg']\n",
            "AP of this result query is:  0.24583333333333332\n",
            "Result of query QuocHocHue8.jpg is:  ['QuocHocHue8.jpg', 'QuocHocHue5.jpg', 'NhaThoDucBa7.jpg', 'image_1717_th.png', 'QuocHocHue7.jpg', 'image_7381_th.png', 'QuocHocHue6.jpg', 'QuocHocHue4.jpg', 'image_3534_th.png', 'image_7885_th.png']\n",
            "AP of this result query is:  0.47455357142857146\n",
            "=> mAP of this is:  0.36759672619047623\n",
            "----------------------------\n",
            "=====================================================================================\n",
            "mAP of this query is:  0.5757285466269841\n"
          ],
          "name": "stdout"
        }
      ]
    },
    {
      "cell_type": "code",
      "metadata": {
        "id": "tKw_MCQxjnHy",
        "outputId": "b198e29b-c2a4-4a3c-fc66-68b7148e0832",
        "colab": {
          "base_uri": "https://localhost:8080/",
          "height": 826
        }
      },
      "source": [
        "mAP('DOT')"
      ],
      "execution_count": null,
      "outputs": [
        {
          "output_type": "stream",
          "text": [
            "###################### USING DOT FUNCTION ######################\n",
            "\n",
            "\n",
            "\n",
            "\n",
            "Result of query BuuDienThanhPho6.jpg is:  ['BuuDienThanhPho6.jpg', 'BuuDienThanhPho8.jpg', 'image_750_th.png', 'NhaThoDucBa5.jpg', 'QuocHocHue1.jpg', 'image_4443_th.png', 'BuuDienThanhPho7.jpg', 'BuuDienThanhPho2.jpg', 'image_797_th.png', 'NhaThoDucBa8.jpg']\n",
            "AP of this result query is:  0.36607142857142855\n",
            "Result of query BuuDienThanhPho4.jpg is:  ['BuuDienThanhPho4.jpg', 'BuuDienThanhPho7.jpg', 'BuuDienThanhPho2.jpg', 'QuocHocHue1.jpg', 'BuuDienThanhPho1.jpg', 'BuuDienThanhPho5.jpg', 'BuuDienThanhPho3.jpg', 'image_4971_th.png', 'NhaThoDucBa2.jpg', 'QuocHocHue7.jpg']\n",
            "AP of this result query is:  0.6863095238095237\n",
            "Result of query BuuDienThanhPho8.jpg is:  ['BuuDienThanhPho8.jpg', 'BuuDienThanhPho7.jpg', 'BuuDienThanhPho2.jpg', 'QuocHocHue1.jpg', 'NhaThoDucBa8.jpg', 'BuuDienThanhPho4.jpg', 'BuuDienThanhPho1.jpg', 'BuuDienThanhPho5.jpg', 'image_4971_th.png', 'image_750_th.png']\n",
            "AP of this result query is:  0.6413690476190476\n",
            "Result of query BuuDienThanhPho1.jpg is:  ['BuuDienThanhPho1.jpg', 'BuuDienThanhPho7.jpg', 'QuocHocHue1.jpg', 'BuuDienThanhPho4.jpg', 'BuuDienThanhPho2.jpg', 'BuuDienThanhPho5.jpg', 'image_6979_th.png', 'BuuDienThanhPho3.jpg', 'QuocHocHue7.jpg', 'image_750_th.png']\n",
            "AP of this result query is:  0.6416666666666666\n",
            "=> mAP of this is:  0.5838541666666666\n",
            "----------------------------\n",
            "Result of query NhaThoDucBa5.jpg is:  ['NhaThoDucBa5.jpg', 'NhaThoDucBa2.jpg', 'NhaThoDucBa6.jpg', 'NhaThoDucBa8.jpg', 'NhaThoDucBa3.jpg', 'image_4971_th.png', 'image_5557_th.png', 'image_1656_th.png', 'NhaThoDucBa7.jpg', 'image_2231_th.png']\n",
            "AP of this result query is:  0.7083333333333334\n",
            "Result of query NhaThoDucBa7.jpg is:  ['NhaThoDucBa7.jpg', 'NhaThoDucBa6.jpg', 'NhaThoDucBa2.jpg', 'QuocHocHue1.jpg', 'NhaThoDucBa5.jpg', 'image_7324_th.png', 'NhaThoDucBa3.jpg', 'BuuDienThanhPho7.jpg', 'NhaThoDucBa4.jpg', 'image_4435_th.png']\n",
            "AP of this result query is:  0.6476190476190476\n",
            "Result of query NhaThoDucBa6.jpg is:  ['NhaThoDucBa6.jpg', 'image_4971_th.png', 'image_7324_th.png', 'NhaThoDucBa2.jpg', 'image_1656_th.png', 'NhaThoDucBa5.jpg', 'image_3065_th.png', 'image_4435_th.png', 'image_709_th.png', 'NhaThoDucBa3.jpg']\n",
            "AP of this result query is:  0.3\n",
            "Result of query NhaThoDucBa2.jpg is:  ['NhaThoDucBa2.jpg', 'image_4971_th.png', 'NhaThoDucBa5.jpg', 'image_7324_th.png', 'NhaThoDucBa8.jpg', 'NhaThoDucBa6.jpg', 'image_4435_th.png', 'NhaThoDucBa4.jpg', 'NhaThoDucBa3.jpg', 'image_1656_th.png']\n",
            "AP of this result query is:  0.528125\n",
            "=> mAP of this is:  0.5460193452380953\n",
            "----------------------------\n",
            "Result of query VinhCamRanh2.jpg is:  ['VinhCamRanh2.jpg', 'VinhCamRanh7.jpg', 'image_3759_th.png', 'VinhCamRanh8.jpg', 'image_3298_th.png', 'image_3194_th.png', 'image_7948_th.png', 'VinhCamRanh3.jpg', 'image_2180_th.png', 'image_3799_th.png']\n",
            "AP of this result query is:  0.40625\n",
            "Result of query VinhCamRanh8.jpg is:  ['VinhCamRanh8.jpg', 'image_7230_th.png', 'VinhCamRanh2.jpg', 'VinhCamRanh3.jpg', 'image_3298_th.png', 'image_3194_th.png', 'image_3759_th.png', 'image_2180_th.png', 'image_4435_th.png', 'image_4586_th.png']\n",
            "AP of this result query is:  0.3020833333333333\n",
            "Result of query VinhCamRanh6.jpg is:  ['VinhCamRanh6.jpg', 'VinhCamRanh8.jpg', 'VinhCamRanh3.jpg', 'image_4586_th.png', 'VinhCamRanh2.jpg', 'image_7073_th.png', 'image_3759_th.png', 'image_7492_th.png', 'VinhCamRanh7.jpg', 'image_2180_th.png']\n",
            "AP of this result query is:  0.5444444444444444\n",
            "Result of query VinhCamRanh7.jpg is:  ['VinhCamRanh7.jpg', 'VinhCamRanh2.jpg', 'image_3759_th.png', 'VinhCamRanh8.jpg', 'image_3298_th.png', 'image_3194_th.png', 'image_2180_th.png', 'image_7073_th.png', 'VinhCamRanh3.jpg', 'image_7948_th.png']\n",
            "AP of this result query is:  0.3993055555555556\n",
            "=> mAP of this is:  0.41302083333333334\n",
            "----------------------------\n",
            "Result of query QuocHocHue4.jpg is:  ['QuocHocHue4.jpg', 'QuocHocHue5.jpg', 'image_6736_th.png', 'image_797_th.png', 'image_6025_th.png', 'image_153_th.png', 'image_236_th.png', 'image_4988_th.png', 'QuocHocHue1.jpg', 'QuocHocHue7.jpg']\n",
            "AP of this result query is:  0.3416666666666667\n",
            "Result of query QuocHocHue6.jpg is:  ['QuocHocHue6.jpg', 'image_6334_th.png', 'image_5852_th.png', 'QuocHocHue3.jpg', 'QuocHocHue1.jpg', 'image_6025_th.png', 'image_7187_th.png', 'QuocHocHue8.jpg', 'image_910_th.png', 'QuocHocHue2.jpg']\n",
            "AP of this result query is:  0.3875\n",
            "Result of query QuocHocHue2.jpg is:  ['QuocHocHue2.jpg', 'QuocHocHue1.jpg', 'QuocHocHue3.jpg', 'image_4435_th.png', 'image_6979_th.png', 'image_3759_th.png', 'image_5721_th.png', 'image_7846_th.png', 'QuocHocHue6.jpg', 'image_7324_th.png']\n",
            "AP of this result query is:  0.4305555555555556\n",
            "Result of query QuocHocHue8.jpg is:  ['QuocHocHue8.jpg', 'image_6025_th.png', 'image_6039_th.png', 'image_6334_th.png', 'image_5852_th.png', 'image_4435_th.png', 'image_6736_th.png', 'image_9_th.png', 'QuocHocHue5.jpg', 'image_3109_th.png']\n",
            "AP of this result query is:  0.1527777777777778\n",
            "=> mAP of this is:  0.328125\n",
            "----------------------------\n",
            "=====================================================================================\n",
            "mAP of this query is:  0.4677548363095238\n"
          ],
          "name": "stdout"
        }
      ]
    },
    {
      "cell_type": "code",
      "metadata": {
        "id": "NBePSndujqX3",
        "outputId": "4b94477b-1bf3-47de-ecef-89c1cc20ea51",
        "colab": {
          "base_uri": "https://localhost:8080/",
          "height": 826
        }
      },
      "source": [
        "mAP('COS')"
      ],
      "execution_count": null,
      "outputs": [
        {
          "output_type": "stream",
          "text": [
            "###################### USING COS FUNCTION ######################\n",
            "\n",
            "\n",
            "\n",
            "\n",
            "Result of query BuuDienThanhPho6.jpg is:  ['BuuDienThanhPho6.jpg', 'BuuDienThanhPho8.jpg', 'NhaThoDucBa5.jpg', 'BuuDienThanhPho2.jpg', 'NhaThoDucBa3.jpg', 'NhaThoDucBa7.jpg', 'QuocHocHue7.jpg', 'image_2231_th.png', 'BuuDienThanhPho7.jpg', 'BuuDienThanhPho1.jpg']\n",
            "AP of this result query is:  0.4618055555555556\n",
            "Result of query BuuDienThanhPho4.jpg is:  ['BuuDienThanhPho4.jpg', 'BuuDienThanhPho2.jpg', 'BuuDienThanhPho7.jpg', 'BuuDienThanhPho1.jpg', 'BuuDienThanhPho5.jpg', 'BuuDienThanhPho3.jpg', 'QuocHocHue1.jpg', 'NhaThoDucBa7.jpg', 'QuocHocHue7.jpg', 'NhaThoDucBa2.jpg']\n",
            "AP of this result query is:  0.75\n",
            "Result of query BuuDienThanhPho8.jpg is:  ['BuuDienThanhPho8.jpg', 'BuuDienThanhPho2.jpg', 'BuuDienThanhPho7.jpg', 'BuuDienThanhPho5.jpg', 'BuuDienThanhPho4.jpg', 'BuuDienThanhPho1.jpg', 'BuuDienThanhPho6.jpg', 'NhaThoDucBa8.jpg', 'QuocHocHue7.jpg', 'BuuDienThanhPho3.jpg']\n",
            "AP of this result query is:  0.975\n",
            "Result of query BuuDienThanhPho1.jpg is:  ['BuuDienThanhPho1.jpg', 'BuuDienThanhPho7.jpg', 'BuuDienThanhPho4.jpg', 'BuuDienThanhPho5.jpg', 'BuuDienThanhPho2.jpg', 'BuuDienThanhPho3.jpg', 'QuocHocHue1.jpg', 'image_6979_th.png', 'NhaThoDucBa7.jpg', 'QuocHocHue7.jpg']\n",
            "AP of this result query is:  0.75\n",
            "=> mAP of this is:  0.7342013888888889\n",
            "----------------------------\n",
            "Result of query NhaThoDucBa5.jpg is:  ['NhaThoDucBa5.jpg', 'NhaThoDucBa3.jpg', 'NhaThoDucBa2.jpg', 'NhaThoDucBa6.jpg', 'NhaThoDucBa7.jpg', 'NhaThoDucBa8.jpg', 'image_1656_th.png', 'NhaThoDucBa4.jpg', 'image_2231_th.png', 'BuuDienThanhPho4.jpg']\n",
            "AP of this result query is:  0.859375\n",
            "Result of query NhaThoDucBa7.jpg is:  ['NhaThoDucBa7.jpg', 'NhaThoDucBa6.jpg', 'NhaThoDucBa3.jpg', 'NhaThoDucBa2.jpg', 'NhaThoDucBa5.jpg', 'image_1656_th.png', 'NhaThoDucBa4.jpg', 'BuuDienThanhPho4.jpg', 'BuuDienThanhPho5.jpg', 'BuuDienThanhPho1.jpg']\n",
            "AP of this result query is:  0.7321428571428571\n",
            "Result of query NhaThoDucBa6.jpg is:  ['NhaThoDucBa6.jpg', 'NhaThoDucBa7.jpg', 'NhaThoDucBa3.jpg', 'image_1656_th.png', 'NhaThoDucBa2.jpg', 'NhaThoDucBa5.jpg', 'image_7324_th.png', 'BuuDienThanhPho5.jpg', 'image_4971_th.png', 'image_3065_th.png']\n",
            "AP of this result query is:  0.5791666666666666\n",
            "Result of query NhaThoDucBa2.jpg is:  ['NhaThoDucBa2.jpg', 'NhaThoDucBa5.jpg', 'NhaThoDucBa3.jpg', 'NhaThoDucBa7.jpg', 'NhaThoDucBa4.jpg', 'NhaThoDucBa6.jpg', 'NhaThoDucBa8.jpg', 'image_1656_th.png', 'image_7324_th.png', 'image_4971_th.png']\n",
            "AP of this result query is:  0.875\n",
            "=> mAP of this is:  0.761421130952381\n",
            "----------------------------\n",
            "Result of query VinhCamRanh2.jpg is:  ['VinhCamRanh2.jpg', 'VinhCamRanh7.jpg', 'image_6149_th.png', 'VinhCamRanh8.jpg', 'VinhCamRanh4.jpg', 'VinhCamRanh3.jpg', 'image_7316_th.png', 'image_7823_th.png', 'image_6017_th.png', 'image_5988_th.png']\n",
            "AP of this result query is:  0.5479166666666666\n",
            "Result of query VinhCamRanh8.jpg is:  ['VinhCamRanh8.jpg', 'image_6149_th.png', 'VinhCamRanh4.jpg', 'VinhCamRanh3.jpg', 'image_6017_th.png', 'VinhCamRanh2.jpg', 'VinhCamRanh6.jpg', 'VinhCamRanh7.jpg', 'image_6152_th.png', 'image_4586_th.png']\n",
            "AP of this result query is:  0.5684523809523809\n",
            "Result of query VinhCamRanh6.jpg is:  ['VinhCamRanh6.jpg', 'VinhCamRanh8.jpg', 'VinhCamRanh3.jpg', 'VinhCamRanh4.jpg', 'image_6149_th.png', 'image_7580_th.png', 'image_4586_th.png', 'VinhCamRanh7.jpg', 'image_7073_th.png', 'image_7316_th.png']\n",
            "AP of this result query is:  0.578125\n",
            "Result of query VinhCamRanh7.jpg is:  ['VinhCamRanh7.jpg', 'VinhCamRanh2.jpg', 'image_6149_th.png', 'VinhCamRanh3.jpg', 'VinhCamRanh8.jpg', 'image_7073_th.png', 'VinhCamRanh4.jpg', 'image_2180_th.png', 'image_7316_th.png', 'image_7823_th.png']\n",
            "AP of this result query is:  0.5330357142857143\n",
            "=> mAP of this is:  0.5568824404761905\n",
            "----------------------------\n",
            "Result of query QuocHocHue4.jpg is:  ['QuocHocHue4.jpg', 'QuocHocHue5.jpg', 'QuocHocHue7.jpg', 'image_236_th.png', 'image_4988_th.png', 'image_2231_th.png', 'image_6736_th.png', 'image_6979_th.png', 'QuocHocHue1.jpg', 'image_6345_th.png']\n",
            "AP of this result query is:  0.4305555555555556\n",
            "Result of query QuocHocHue6.jpg is:  ['QuocHocHue6.jpg', 'QuocHocHue2.jpg', 'image_6334_th.png', 'image_5852_th.png', 'QuocHocHue3.jpg', 'image_7187_th.png', 'QuocHocHue8.jpg', 'image_7885_th.png', 'image_910_th.png', 'QuocHocHue1.jpg']\n",
            "AP of this result query is:  0.45892857142857146\n",
            "Result of query QuocHocHue2.jpg is:  ['QuocHocHue2.jpg', 'QuocHocHue6.jpg', 'image_6979_th.png', 'image_2171_th.png', 'image_3395_th.png', 'BuuDienThanhPho3.jpg', 'image_1968_th.png', 'image_1141_th.png', 'QuocHocHue3.jpg', 'image_4216_th.png']\n",
            "AP of this result query is:  0.2916666666666667\n",
            "Result of query QuocHocHue8.jpg is:  ['QuocHocHue8.jpg', 'QuocHocHue5.jpg', 'image_6334_th.png', 'image_5852_th.png', 'image_1717_th.png', 'image_3109_th.png', 'image_2598_th.png', 'image_6039_th.png', 'image_3534_th.png', 'QuocHocHue7.jpg']\n",
            "AP of this result query is:  0.2875\n",
            "=> mAP of this is:  0.36716269841269844\n",
            "----------------------------\n",
            "=====================================================================================\n",
            "mAP of this query is:  0.6049169146825396\n"
          ],
          "name": "stdout"
        }
      ]
    },
    {
      "cell_type": "markdown",
      "metadata": {
        "id": "QDjgEV_qj1oC"
      },
      "source": [
        "Như kết quả ta vừa tính đuược ta thấy hàm cosin tính ra kết quả chính xác cao nhất vì mục đích của chúng ta là tìm ra đúng mục tiêu chọn lựa chứ không phải là theo mức độ liên quan"
      ]
    }
  ]
}